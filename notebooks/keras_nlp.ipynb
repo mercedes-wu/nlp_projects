{
 "cells": [
  {
   "cell_type": "code",
   "execution_count": 1,
   "id": "8d39d13d-2cea-4b79-88c4-a88349ae8ea4",
   "metadata": {},
   "outputs": [],
   "source": [
    "import tensorflow as tf\n",
    "from tensorflow import keras\n",
    "from tensorflow.keras.preprocessing.text import Tokenizer"
   ]
  },
  {
   "cell_type": "code",
   "execution_count": 8,
   "id": "98d86c54-151d-49df-b6e4-607eac2eb4fd",
   "metadata": {},
   "outputs": [
    {
     "name": "stderr",
     "output_type": "stream",
     "text": [
      "[nltk_data] Downloading package words to\n",
      "[nltk_data]     C:\\Users\\merce\\AppData\\Roaming\\nltk_data...\n",
      "[nltk_data]   Unzipping corpora\\words.zip.\n"
     ]
    },
    {
     "data": {
      "text/plain": [
       "True"
      ]
     },
     "execution_count": 8,
     "metadata": {},
     "output_type": "execute_result"
    }
   ],
   "source": [
    "import nltk\n",
    "nltk.download('words')"
   ]
  },
  {
   "cell_type": "code",
   "execution_count": 9,
   "id": "bda5c2b0-d57b-4305-9b0c-0d71bf6ebcc2",
   "metadata": {},
   "outputs": [],
   "source": [
    "from nltk.corpus import words\n",
    "from random import sample"
   ]
  },
  {
   "cell_type": "code",
   "execution_count": 10,
   "id": "cb363e7c-49ca-4d73-975c-1e86b502bae5",
   "metadata": {},
   "outputs": [],
   "source": [
    "# from notebook.services.config import ConfigManager\n",
    "# c = ConfigManager()\n",
    "# c.update('notebook', {\"CodeCell\": {\"cm_config\": {\"autoCloseBrackets\": True}}})"
   ]
  },
  {
   "cell_type": "code",
   "execution_count": 14,
   "id": "2a14975f-72b9-4a89-8555-2f15cf53f2ab",
   "metadata": {},
   "outputs": [],
   "source": [
    "rand_words = (sample(words.words(), 100))"
   ]
  },
  {
   "cell_type": "code",
   "execution_count": 15,
   "id": "f4e35f00-d6c4-47be-a200-5b29271b9db5",
   "metadata": {},
   "outputs": [
    {
     "data": {
      "text/plain": [
       "['amebiform',\n",
       " 'Iberism',\n",
       " 'counterenergy',\n",
       " 'dibrom',\n",
       " 'winnowing',\n",
       " 'neem',\n",
       " 'parhomology',\n",
       " 'seasonedly',\n",
       " 'allan',\n",
       " 'proleptically',\n",
       " 'hemipteron',\n",
       " 'phragmocyttarous',\n",
       " 'pseudomembrane',\n",
       " 'masse',\n",
       " 'raad',\n",
       " 'photointaglio',\n",
       " 'singlehearted',\n",
       " 'Carinthian',\n",
       " 'gaseousness',\n",
       " 'clockroom',\n",
       " 'northwestward',\n",
       " 'straddleways',\n",
       " 'pessimistic',\n",
       " 'sesquinonal',\n",
       " 'Volcanalia',\n",
       " 'governable',\n",
       " 'unquitted',\n",
       " 'windore',\n",
       " 'chromatopathy',\n",
       " 'fardo',\n",
       " 'genipapada',\n",
       " 'disquisitor',\n",
       " 'pachyrhynchous',\n",
       " 'Cladophorales',\n",
       " 'eyeful',\n",
       " 'archhead',\n",
       " 'outtop',\n",
       " 'lucban',\n",
       " 'hylomorphical',\n",
       " 'muddleheadedness',\n",
       " 'overoffensive',\n",
       " 'implead',\n",
       " 'solemnify',\n",
       " 'persymmetrical',\n",
       " 'antiopiumite',\n",
       " 'schizomycete',\n",
       " 'tutiorist',\n",
       " 'pseudaxis',\n",
       " 'pullen',\n",
       " 'Venite',\n",
       " 'boilermaking',\n",
       " 'hippocras',\n",
       " 'raspish',\n",
       " 'snaily',\n",
       " 'preventingly',\n",
       " 'spirituality',\n",
       " 'colometric',\n",
       " 'dualistically',\n",
       " 'foundationary',\n",
       " 'relapseproof',\n",
       " 'Caccabis',\n",
       " 'disenjoyment',\n",
       " 'whitherso',\n",
       " 'stupidity',\n",
       " 'undercourse',\n",
       " 'spermaceti',\n",
       " 'stercophagous',\n",
       " 'Blanch',\n",
       " 'cardiataxia',\n",
       " 'inquilinous',\n",
       " 'timberwood',\n",
       " 'amphiboliferous',\n",
       " 'variancy',\n",
       " 'inframedian',\n",
       " 'uncitizenlike',\n",
       " 'chlorophyllaceous',\n",
       " 'dinnerless',\n",
       " 'stromeyerite',\n",
       " 'isidioid',\n",
       " 'shampoo',\n",
       " 'comstockery',\n",
       " 'snowshoeing',\n",
       " 'subscribership',\n",
       " 'concuss',\n",
       " 'scarabee',\n",
       " 'rewater',\n",
       " 'necked',\n",
       " 'talebearer',\n",
       " 'cystadenosarcoma',\n",
       " 'explorational',\n",
       " 'spectrograph',\n",
       " 'anthracolithic',\n",
       " 'zoonist',\n",
       " 'Vampyrella',\n",
       " 'scranky',\n",
       " 'cymophane',\n",
       " 'hemidysergia',\n",
       " 'polycrystalline',\n",
       " 'pericapsular',\n",
       " 'acrotarsium']"
      ]
     },
     "execution_count": 15,
     "metadata": {},
     "output_type": "execute_result"
    }
   ],
   "source": [
    "tokenizer = "
   ]
  },
  {
   "cell_type": "code",
   "execution_count": null,
   "id": "73be2a89-cb34-43cb-af9b-184319ce6a4e",
   "metadata": {},
   "outputs": [],
   "source": []
  }
 ],
 "metadata": {
  "kernelspec": {
   "display_name": "Python 3",
   "language": "python",
   "name": "python3"
  },
  "language_info": {
   "codemirror_mode": {
    "name": "ipython",
    "version": 3
   },
   "file_extension": ".py",
   "mimetype": "text/x-python",
   "name": "python",
   "nbconvert_exporter": "python",
   "pygments_lexer": "ipython3",
   "version": "3.9.2"
  }
 },
 "nbformat": 4,
 "nbformat_minor": 5
}
