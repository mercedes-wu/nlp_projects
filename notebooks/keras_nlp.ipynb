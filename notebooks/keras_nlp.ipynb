{
 "cells": [
  {
   "cell_type": "code",
   "execution_count": 26,
   "id": "d9aa669d-94f1-4eb4-8e32-74fca7dd80b5",
   "metadata": {
    "collapsed": true,
    "jupyter": {
     "outputs_hidden": true
    },
    "tags": []
   },
   "outputs": [
    {
     "name": "stdout",
     "output_type": "stream",
     "text": [
      "[name: \"/device:CPU:0\"\n",
      "device_type: \"CPU\"\n",
      "memory_limit: 268435456\n",
      "locality {\n",
      "}\n",
      "incarnation: 6119806303421135944\n",
      "xla_global_id: -1\n",
      ", name: \"/device:GPU:0\"\n",
      "device_type: \"GPU\"\n",
      "memory_limit: 1383149979\n",
      "locality {\n",
      "  bus_id: 1\n",
      "  links {\n",
      "  }\n",
      "}\n",
      "incarnation: 12604672905691438673\n",
      "physical_device_desc: \"device: 0, name: NVIDIA GeForce GTX 1050, pci bus id: 0000:01:00.0, compute capability: 6.1\"\n",
      "xla_global_id: 416903419\n",
      "]\n"
     ]
    }
   ],
   "source": [
    "from tensorflow.python.client import device_lib\n",
    "print(device_lib.list_local_devices())"
   ]
  },
  {
   "cell_type": "code",
   "execution_count": 1,
   "id": "8d39d13d-2cea-4b79-88c4-a88349ae8ea4",
   "metadata": {},
   "outputs": [],
   "source": [
    "import tensorflow as tf\n",
    "from tensorflow import keras\n",
    "from tensorflow.keras.preprocessing.text import Tokenizer"
   ]
  },
  {
   "cell_type": "code",
   "execution_count": 9,
   "id": "bda5c2b0-d57b-4305-9b0c-0d71bf6ebcc2",
   "metadata": {},
   "outputs": [],
   "source": [
    "from nltk.corpus import words\n",
    "from random import sample"
   ]
  },
  {
   "cell_type": "code",
   "execution_count": 8,
   "id": "98d86c54-151d-49df-b6e4-607eac2eb4fd",
   "metadata": {},
   "outputs": [
    {
     "name": "stderr",
     "output_type": "stream",
     "text": [
      "[nltk_data] Downloading package words to\n",
      "[nltk_data]     C:\\Users\\merce\\AppData\\Roaming\\nltk_data...\n",
      "[nltk_data]   Unzipping corpora\\words.zip.\n"
     ]
    },
    {
     "data": {
      "text/plain": [
       "True"
      ]
     },
     "execution_count": 8,
     "metadata": {},
     "output_type": "execute_result"
    }
   ],
   "source": [
    "import nltk\n",
    "nltk.download('words')"
   ]
  },
  {
   "cell_type": "code",
   "execution_count": 38,
   "id": "cb363e7c-49ca-4d73-975c-1e86b502bae5",
   "metadata": {},
   "outputs": [],
   "source": [
    "sentences = [\n",
    "    'I love my dog',\n",
    "    'I love my cat',\n",
    "    'You love my dog',\n",
    "    'Do you think my dog is amazing?'\n",
    "]"
   ]
  },
  {
   "cell_type": "code",
   "execution_count": 39,
   "id": "1cb12b58-14c3-4c26-9064-77736263afb7",
   "metadata": {},
   "outputs": [],
   "source": [
    "tokenizer = Tokenizer(num_words=100, oov_token='<OOV>')"
   ]
  },
  {
   "cell_type": "code",
   "execution_count": 40,
   "id": "ef35ec71-e09e-4de7-9c94-96de9ac79779",
   "metadata": {},
   "outputs": [],
   "source": [
    "# only includes words in the training data\n",
    "tokenizer.fit_on_texts(sentences)"
   ]
  },
  {
   "cell_type": "code",
   "execution_count": 41,
   "id": "564bc92b-bf51-4d0a-a675-a93ee2bbdaae",
   "metadata": {},
   "outputs": [],
   "source": [
    "word_index = tokenizer.word_index"
   ]
  },
  {
   "cell_type": "code",
   "execution_count": 42,
   "id": "6c6e8190-4055-44b5-8e70-826d19419409",
   "metadata": {},
   "outputs": [
    {
     "data": {
      "text/plain": [
       "{'<OOV>': 1,\n",
       " 'my': 2,\n",
       " 'love': 3,\n",
       " 'dog': 4,\n",
       " 'i': 5,\n",
       " 'you': 6,\n",
       " 'cat': 7,\n",
       " 'do': 8,\n",
       " 'think': 9,\n",
       " 'is': 10,\n",
       " 'amazing': 11}"
      ]
     },
     "execution_count": 42,
     "metadata": {},
     "output_type": "execute_result"
    }
   ],
   "source": [
    "word_index"
   ]
  },
  {
   "cell_type": "code",
   "execution_count": 47,
   "id": "b1e01156-803c-47c4-ad54-8dde1c4e7a72",
   "metadata": {},
   "outputs": [],
   "source": [
    "seq = tokenizer.texts_to_sequences(sentences)"
   ]
  },
  {
   "cell_type": "code",
   "execution_count": 48,
   "id": "75915d61-7852-41da-89ba-5e91f8edbe8a",
   "metadata": {},
   "outputs": [
    {
     "data": {
      "text/plain": [
       "[[5, 3, 2, 4], [5, 3, 2, 7], [6, 3, 2, 4], [8, 6, 9, 2, 4, 10, 11]]"
      ]
     },
     "execution_count": 48,
     "metadata": {},
     "output_type": "execute_result"
    }
   ],
   "source": [
    "seq"
   ]
  },
  {
   "cell_type": "code",
   "execution_count": 49,
   "id": "d9025a86-9aa3-4b76-8f37-35a7ec6c1bd9",
   "metadata": {},
   "outputs": [],
   "source": [
    "test_data = [\n",
    "    'I really love my dog',\n",
    "    'My dog loves my manatee'\n",
    "]"
   ]
  },
  {
   "cell_type": "code",
   "execution_count": 50,
   "id": "e035477d-e8c6-4dc6-b8c9-9614b2c67815",
   "metadata": {},
   "outputs": [],
   "source": [
    "test_seq = tokenizer.texts_to_sequences(test_data)"
   ]
  },
  {
   "cell_type": "code",
   "execution_count": 51,
   "id": "5493b140-7d97-46eb-a808-5eaa0103f59f",
   "metadata": {},
   "outputs": [
    {
     "data": {
      "text/plain": [
       "[[5, 1, 3, 2, 4], [2, 4, 1, 2, 1]]"
      ]
     },
     "execution_count": 51,
     "metadata": {},
     "output_type": "execute_result"
    }
   ],
   "source": [
    "test_seq"
   ]
  },
  {
   "cell_type": "code",
   "execution_count": 14,
   "id": "2a14975f-72b9-4a89-8555-2f15cf53f2ab",
   "metadata": {},
   "outputs": [],
   "source": [
    "rand_words = (sample(words.words(), 100))"
   ]
  },
  {
   "cell_type": "code",
   "execution_count": 15,
   "id": "f4e35f00-d6c4-47be-a200-5b29271b9db5",
   "metadata": {},
   "outputs": [
    {
     "data": {
      "text/plain": [
       "['amebiform',\n",
       " 'Iberism',\n",
       " 'counterenergy',\n",
       " 'dibrom',\n",
       " 'winnowing',\n",
       " 'neem',\n",
       " 'parhomology',\n",
       " 'seasonedly',\n",
       " 'allan',\n",
       " 'proleptically',\n",
       " 'hemipteron',\n",
       " 'phragmocyttarous',\n",
       " 'pseudomembrane',\n",
       " 'masse',\n",
       " 'raad',\n",
       " 'photointaglio',\n",
       " 'singlehearted',\n",
       " 'Carinthian',\n",
       " 'gaseousness',\n",
       " 'clockroom',\n",
       " 'northwestward',\n",
       " 'straddleways',\n",
       " 'pessimistic',\n",
       " 'sesquinonal',\n",
       " 'Volcanalia',\n",
       " 'governable',\n",
       " 'unquitted',\n",
       " 'windore',\n",
       " 'chromatopathy',\n",
       " 'fardo',\n",
       " 'genipapada',\n",
       " 'disquisitor',\n",
       " 'pachyrhynchous',\n",
       " 'Cladophorales',\n",
       " 'eyeful',\n",
       " 'archhead',\n",
       " 'outtop',\n",
       " 'lucban',\n",
       " 'hylomorphical',\n",
       " 'muddleheadedness',\n",
       " 'overoffensive',\n",
       " 'implead',\n",
       " 'solemnify',\n",
       " 'persymmetrical',\n",
       " 'antiopiumite',\n",
       " 'schizomycete',\n",
       " 'tutiorist',\n",
       " 'pseudaxis',\n",
       " 'pullen',\n",
       " 'Venite',\n",
       " 'boilermaking',\n",
       " 'hippocras',\n",
       " 'raspish',\n",
       " 'snaily',\n",
       " 'preventingly',\n",
       " 'spirituality',\n",
       " 'colometric',\n",
       " 'dualistically',\n",
       " 'foundationary',\n",
       " 'relapseproof',\n",
       " 'Caccabis',\n",
       " 'disenjoyment',\n",
       " 'whitherso',\n",
       " 'stupidity',\n",
       " 'undercourse',\n",
       " 'spermaceti',\n",
       " 'stercophagous',\n",
       " 'Blanch',\n",
       " 'cardiataxia',\n",
       " 'inquilinous',\n",
       " 'timberwood',\n",
       " 'amphiboliferous',\n",
       " 'variancy',\n",
       " 'inframedian',\n",
       " 'uncitizenlike',\n",
       " 'chlorophyllaceous',\n",
       " 'dinnerless',\n",
       " 'stromeyerite',\n",
       " 'isidioid',\n",
       " 'shampoo',\n",
       " 'comstockery',\n",
       " 'snowshoeing',\n",
       " 'subscribership',\n",
       " 'concuss',\n",
       " 'scarabee',\n",
       " 'rewater',\n",
       " 'necked',\n",
       " 'talebearer',\n",
       " 'cystadenosarcoma',\n",
       " 'explorational',\n",
       " 'spectrograph',\n",
       " 'anthracolithic',\n",
       " 'zoonist',\n",
       " 'Vampyrella',\n",
       " 'scranky',\n",
       " 'cymophane',\n",
       " 'hemidysergia',\n",
       " 'polycrystalline',\n",
       " 'pericapsular',\n",
       " 'acrotarsium']"
      ]
     },
     "execution_count": 15,
     "metadata": {},
     "output_type": "execute_result"
    }
   ],
   "source": [
    "tokenizer = "
   ]
  },
  {
   "cell_type": "code",
   "execution_count": null,
   "id": "73be2a89-cb34-43cb-af9b-184319ce6a4e",
   "metadata": {},
   "outputs": [],
   "source": []
  }
 ],
 "metadata": {
  "kernelspec": {
   "display_name": "Python 3",
   "language": "python",
   "name": "python3"
  },
  "language_info": {
   "codemirror_mode": {
    "name": "ipython",
    "version": 3
   },
   "file_extension": ".py",
   "mimetype": "text/x-python",
   "name": "python",
   "nbconvert_exporter": "python",
   "pygments_lexer": "ipython3",
   "version": "3.9.2"
  }
 },
 "nbformat": 4,
 "nbformat_minor": 5
}
